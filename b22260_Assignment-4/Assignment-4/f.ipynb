{
 "cells": [
  {
   "cell_type": "code",
   "execution_count": 52,
   "metadata": {},
   "outputs": [
    {
     "name": "stdout",
     "output_type": "stream",
     "text": [
      "1\n",
      "2\n",
      "fizz\n",
      "4\n",
      "buzz\n",
      "fizz\n",
      "7\n",
      "8\n",
      "fizz\n",
      "buzz\n",
      "11\n",
      "fizz\n",
      "13\n",
      "14\n",
      "fizzbuzz\n",
      "16\n",
      "17\n",
      "fizz\n",
      "19\n",
      "buzz\n",
      "fizz\n"
     ]
    }
   ],
   "source": [
    "#v1 \n",
    "#verbose solution\n",
    "\n",
    "n = int(input(\"Enter the number: \"))\n",
    "\n",
    "for i in range(1,n+1):\n",
    "    if(i%3 == 0 and i%5 == 0):\n",
    "        print(\"fizzbuzz\")\n",
    "    elif(i%3 == 0):\n",
    "        print(\"fizz\")\n",
    "    elif(i%5 == 0):\n",
    "        print(\"buzz\")\n",
    "    else:\n",
    "        print(i)"
   ]
  },
  {
   "cell_type": "code",
   "execution_count": 53,
   "metadata": {},
   "outputs": [
    {
     "name": "stdout",
     "output_type": "stream",
     "text": [
      "1\n",
      "2\n",
      "fizz\n",
      "4\n",
      "buzz\n",
      "fizz\n",
      "7\n",
      "8\n",
      "fizz\n",
      "buzz\n",
      "11\n",
      "fizz\n",
      "13\n",
      "14\n",
      "fizzbuzz\n",
      "16\n",
      "17\n",
      "fizz\n",
      "19\n",
      "buzz\n",
      "fizz\n",
      "\n",
      "reverse order:\n",
      "\n",
      "fizz\n",
      "buzz\n",
      "19\n",
      "fizz\n",
      "17\n",
      "16\n",
      "fizzbuzz\n",
      "14\n",
      "13\n",
      "fizz\n",
      "11\n",
      "buzz\n",
      "fizz\n",
      "8\n",
      "7\n",
      "fizz\n",
      "buzz\n",
      "4\n",
      "fizz\n",
      "2\n",
      "1\n"
     ]
    }
   ],
   "source": [
    "# v2\n",
    "y = int(input(\"Enter the starting integer: \"))\n",
    "#\n",
    "a = 3\n",
    "b = 5\n",
    "l = {0:\"fizzbuzz\", a:\"fizz\", b:\"buzz\"}\n",
    "\n",
    "d = {a:\"fizz\",b:\"buzz\"}\n",
    "for i in range(a,a*b,a): # can be placed as an outer loop traversing all primes provided in the game (3,5 in this case)\n",
    "    l[i] = d[a]\n",
    "\n",
    "for i in range(b,a*b,b): \n",
    "    l[i] = d[b]\n",
    "\n",
    "l[0] = \"fizzbuzz\"\n",
    "\n",
    "for i in range(y,n+1):\n",
    "    x = i%(a*b)          # can be replaced by the product of all prime numbers\n",
    "    if(x not in l):\n",
    "        print(i)\n",
    "    else:\n",
    "        print(l[x])\n",
    "\n",
    "print(\"\\nreverse order:\\n\")\n",
    "\n",
    "for i in range(n,y-1,-1):\n",
    "    x = i%(a*b)\n",
    "    if(x not in l):\n",
    "        print(i)\n",
    "    else:\n",
    "        print(l[x])\n"
   ]
  },
  {
   "cell_type": "code",
   "execution_count": 54,
   "metadata": {},
   "outputs": [
    {
     "name": "stdout",
     "output_type": "stream",
     "text": [
      "1\n",
      "4\n",
      "fizz\n",
      "16\n",
      "buzz\n",
      "fizz\n",
      "49\n",
      "64\n",
      "fizz\n",
      "buzz\n",
      "121\n",
      "fizz\n",
      "169\n",
      "196\n",
      "fizzbuzz\n",
      "256\n",
      "289\n",
      "fizz\n",
      "361\n",
      "buzz\n",
      "fizz\n"
     ]
    }
   ],
   "source": [
    "#v6\n",
    "def f(x):\n",
    "    return x*x\n",
    "\n",
    "for i in range(1,n+1):\n",
    "        t = f(i)\n",
    "        x = t%15\n",
    "\n",
    "        if(x not in l):\n",
    "            print(t)\n",
    "        else:\n",
    "            print(l[x])"
   ]
  },
  {
   "cell_type": "code",
   "execution_count": null,
   "metadata": {},
   "outputs": [],
   "source": []
  },
  {
   "cell_type": "code",
   "execution_count": 55,
   "metadata": {},
   "outputs": [
    {
     "name": "stdout",
     "output_type": "stream",
     "text": [
      "fizz\n",
      "11\n",
      "fizz\n"
     ]
    }
   ],
   "source": [
    "#v3\n",
    "for i in range(2,n+1):\n",
    "    x = (i-1)%15          # can be replaced by the product of all prime numbers\n",
    "    if(x in l and l[x] == \"buzz\"):\n",
    "        x = i%15\n",
    "        if(x not in l):\n",
    "            print(i)\n",
    "        else:\n",
    "            print(l[x])"
   ]
  }
 ],
 "metadata": {
  "kernelspec": {
   "display_name": "Python 3",
   "language": "python",
   "name": "python3"
  },
  "language_info": {
   "codemirror_mode": {
    "name": "ipython",
    "version": 3
   },
   "file_extension": ".py",
   "mimetype": "text/x-python",
   "name": "python",
   "nbconvert_exporter": "python",
   "pygments_lexer": "ipython3",
   "version": "3.11.4"
  }
 },
 "nbformat": 4,
 "nbformat_minor": 2
}
