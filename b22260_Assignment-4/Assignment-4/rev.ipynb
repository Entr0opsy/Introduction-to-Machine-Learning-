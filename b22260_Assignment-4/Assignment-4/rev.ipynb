{
 "cells": [
  {
   "cell_type": "code",
   "execution_count": 28,
   "metadata": {},
   "outputs": [
    {
     "name": "stdout",
     "output_type": "stream",
     "text": [
      "1\n",
      "2\n",
      "fizz\n",
      "4\n",
      "fizz\n",
      "7\n",
      "8\n",
      "fizz\n",
      "11\n",
      "fizz\n",
      "13\n",
      "14\n"
     ]
    }
   ],
   "source": [
    "#Fizzbuzz\n",
    "\n",
    "i = int(input())\n",
    "\n",
    "for j in range(1,i+1):\n",
    "    output = \"\"\n",
    "    if(j%3 == 0):\n",
    "        output += \"fizz\"\n",
    "    if(j%5 == 0):\n",
    "        output += \"buzz\"\n",
    "    else:\n",
    "        print(output or j)"
   ]
  },
  {
   "cell_type": "code",
   "execution_count": 29,
   "metadata": {},
   "outputs": [
    {
     "name": "stdout",
     "output_type": "stream",
     "text": [
      "2\n",
      "fizz\n",
      "4\n",
      "7\n",
      "14\n"
     ]
    }
   ],
   "source": [
    "import random\n",
    "i = int(input())\n",
    "for j in range(1,i+1):\n",
    "    if random.choice([True, False]):\n",
    "        output = \"\"\n",
    "        if(j%3 == 0):\n",
    "            output += \"fizz\"\n",
    "        if(j%5 == 0):\n",
    "            output += \"buzz\"\n",
    "        print(output or j)"
   ]
  },
  {
   "cell_type": "code",
   "execution_count": 21,
   "metadata": {},
   "outputs": [],
   "source": [
    "#3\n",
    "a = 3\n",
    "b = 5\n",
    "i = int(input())\n",
    "\n",
    "out = \"\"\n",
    "for j in range(1,i+1):\n",
    "    if(out == \"buzz\"):\n",
    "        print(j)\n",
    "    r = j%(a*b)\n",
    "    if(r == 0):\n",
    "        out = \"fizzbuzz\"\n",
    "    if(r%b == 0):\n",
    "        out = \"buzz\"\n",
    "    if(r%a == 0):\n",
    "        out = \"fizz\"\n",
    "    else:\n",
    "        out = \"null\"\n"
   ]
  },
  {
   "cell_type": "code",
   "execution_count": 23,
   "metadata": {},
   "outputs": [
    {
     "name": "stdout",
     "output_type": "stream",
     "text": [
      "1\n",
      "4\n",
      "fizz\n",
      "16\n",
      "buzz\n",
      "fizz\n",
      "49\n",
      "64\n",
      "fizz\n",
      "buzz\n",
      "121\n",
      "fizz\n",
      "169\n",
      "196\n",
      "fizzbuzz\n"
     ]
    }
   ],
   "source": [
    "#6\n",
    "import math\n",
    "\n",
    "def func(x):\n",
    "    return math.pow(x,2)\n",
    "\n",
    "i = int(input())\n",
    "f = [func(t) for t in range(1,i+1)]\n",
    "\n",
    "for j in f:\n",
    "    if(j%15 == 0):\n",
    "        print(\"fizzbuzz\")\n",
    "    elif(j%3 == 0):\n",
    "        print(\"fizz\")\n",
    "    elif(j%5 == 0):\n",
    "        print(\"buzz\")\n",
    "    else:\n",
    "        print(int(j))    "
   ]
  }
 ],
 "metadata": {
  "kernelspec": {
   "display_name": "Python 3",
   "language": "python",
   "name": "python3"
  },
  "language_info": {
   "codemirror_mode": {
    "name": "ipython",
    "version": 3
   },
   "file_extension": ".py",
   "mimetype": "text/x-python",
   "name": "python",
   "nbconvert_exporter": "python",
   "pygments_lexer": "ipython3",
   "version": "3.11.4"
  }
 },
 "nbformat": 4,
 "nbformat_minor": 2
}
