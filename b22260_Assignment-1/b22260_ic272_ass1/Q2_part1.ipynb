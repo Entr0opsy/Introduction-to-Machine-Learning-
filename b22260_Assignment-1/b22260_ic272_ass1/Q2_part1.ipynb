{
 "cells": [
  {
   "cell_type": "code",
   "execution_count": 2,
   "metadata": {},
   "outputs": [],
   "source": [
    "import pandas as pd\n",
    "import matplotlib.pyplot as plt\n",
    "import numpy as np"
   ]
  },
  {
   "cell_type": "code",
   "execution_count": 3,
   "metadata": {},
   "outputs": [
    {
     "data": {
      "text/html": [
       "<div>\n",
       "<style scoped>\n",
       "    .dataframe tbody tr th:only-of-type {\n",
       "        vertical-align: middle;\n",
       "    }\n",
       "\n",
       "    .dataframe tbody tr th {\n",
       "        vertical-align: top;\n",
       "    }\n",
       "\n",
       "    .dataframe thead th {\n",
       "        text-align: right;\n",
       "    }\n",
       "</style>\n",
       "<table border=\"1\" class=\"dataframe\">\n",
       "  <thead>\n",
       "    <tr style=\"text-align: right;\">\n",
       "      <th></th>\n",
       "      <th>dates</th>\n",
       "      <th>stationid</th>\n",
       "      <th>temperature</th>\n",
       "      <th>humidity</th>\n",
       "      <th>pressure</th>\n",
       "      <th>rain</th>\n",
       "      <th>lightavg</th>\n",
       "      <th>lightmax</th>\n",
       "      <th>moisture</th>\n",
       "    </tr>\n",
       "  </thead>\n",
       "  <tbody>\n",
       "    <tr>\n",
       "      <th>0</th>\n",
       "      <td>08-07-2018</td>\n",
       "      <td>t10</td>\n",
       "      <td>25.46875</td>\n",
       "      <td>82.18750</td>\n",
       "      <td>1036.346875</td>\n",
       "      <td>6.75</td>\n",
       "      <td>5.5000</td>\n",
       "      <td>4000.0</td>\n",
       "      <td>0.0000</td>\n",
       "    </tr>\n",
       "    <tr>\n",
       "      <th>1</th>\n",
       "      <td>09-07-2018</td>\n",
       "      <td>t10</td>\n",
       "      <td>26.19298</td>\n",
       "      <td>83.14912</td>\n",
       "      <td>1037.604386</td>\n",
       "      <td>1761.75</td>\n",
       "      <td>11.8448</td>\n",
       "      <td>4000.0</td>\n",
       "      <td>5.6930</td>\n",
       "    </tr>\n",
       "    <tr>\n",
       "      <th>2</th>\n",
       "      <td>10-07-2018</td>\n",
       "      <td>t10</td>\n",
       "      <td>25.17021</td>\n",
       "      <td>85.34043</td>\n",
       "      <td>1037.889362</td>\n",
       "      <td>652.50</td>\n",
       "      <td>8.7692</td>\n",
       "      <td>4000.0</td>\n",
       "      <td>NaN</td>\n",
       "    </tr>\n",
       "    <tr>\n",
       "      <th>3</th>\n",
       "      <td>11-07-2018</td>\n",
       "      <td>t10</td>\n",
       "      <td>NaN</td>\n",
       "      <td>87.68657</td>\n",
       "      <td>1036.857463</td>\n",
       "      <td>963.00</td>\n",
       "      <td>8.8358</td>\n",
       "      <td>4000.0</td>\n",
       "      <td>6.0373</td>\n",
       "    </tr>\n",
       "    <tr>\n",
       "      <th>4</th>\n",
       "      <td>12-07-2018</td>\n",
       "      <td>t10</td>\n",
       "      <td>24.06923</td>\n",
       "      <td>87.64615</td>\n",
       "      <td>1027.830769</td>\n",
       "      <td>254.25</td>\n",
       "      <td>274.6232</td>\n",
       "      <td>4333.0</td>\n",
       "      <td>31.2385</td>\n",
       "    </tr>\n",
       "    <tr>\n",
       "      <th>...</th>\n",
       "      <td>...</td>\n",
       "      <td>...</td>\n",
       "      <td>...</td>\n",
       "      <td>...</td>\n",
       "      <td>...</td>\n",
       "      <td>...</td>\n",
       "      <td>...</td>\n",
       "      <td>...</td>\n",
       "      <td>...</td>\n",
       "    </tr>\n",
       "    <tr>\n",
       "      <th>940</th>\n",
       "      <td>21-11-2018</td>\n",
       "      <td>t9</td>\n",
       "      <td>NaN</td>\n",
       "      <td>58.69630</td>\n",
       "      <td>1026.797407</td>\n",
       "      <td>73577.25</td>\n",
       "      <td>5521.1231</td>\n",
       "      <td>47460.0</td>\n",
       "      <td>54.4222</td>\n",
       "    </tr>\n",
       "    <tr>\n",
       "      <th>941</th>\n",
       "      <td>22-11-2018</td>\n",
       "      <td>t9</td>\n",
       "      <td>15.52482</td>\n",
       "      <td>63.16312</td>\n",
       "      <td>1027.495248</td>\n",
       "      <td>65301.75</td>\n",
       "      <td>5521.1231</td>\n",
       "      <td>47460.0</td>\n",
       "      <td>54.5674</td>\n",
       "    </tr>\n",
       "    <tr>\n",
       "      <th>942</th>\n",
       "      <td>23-11-2018</td>\n",
       "      <td>t9</td>\n",
       "      <td>15.81560</td>\n",
       "      <td>59.21277</td>\n",
       "      <td>1029.318511</td>\n",
       "      <td>73534.50</td>\n",
       "      <td>5521.1231</td>\n",
       "      <td>47460.0</td>\n",
       "      <td>54.8794</td>\n",
       "    </tr>\n",
       "    <tr>\n",
       "      <th>943</th>\n",
       "      <td>24-11-2018</td>\n",
       "      <td>t9</td>\n",
       "      <td>16.58571</td>\n",
       "      <td>54.63571</td>\n",
       "      <td>1026.776357</td>\n",
       "      <td>72283.50</td>\n",
       "      <td>5521.1231</td>\n",
       "      <td>47460.0</td>\n",
       "      <td>55.0286</td>\n",
       "    </tr>\n",
       "    <tr>\n",
       "      <th>944</th>\n",
       "      <td>25-11-2018</td>\n",
       "      <td>t9</td>\n",
       "      <td>17.90000</td>\n",
       "      <td>49.41000</td>\n",
       "      <td>1026.771200</td>\n",
       "      <td>71799.75</td>\n",
       "      <td>5783.7581</td>\n",
       "      <td>47460.0</td>\n",
       "      <td>55.3400</td>\n",
       "    </tr>\n",
       "  </tbody>\n",
       "</table>\n",
       "<p>945 rows × 9 columns</p>\n",
       "</div>"
      ],
      "text/plain": [
       "          dates stationid  temperature  humidity     pressure      rain  \\\n",
       "0    08-07-2018       t10     25.46875  82.18750  1036.346875      6.75   \n",
       "1    09-07-2018       t10     26.19298  83.14912  1037.604386   1761.75   \n",
       "2    10-07-2018       t10     25.17021  85.34043  1037.889362    652.50   \n",
       "3    11-07-2018       t10          NaN  87.68657  1036.857463    963.00   \n",
       "4    12-07-2018       t10     24.06923  87.64615  1027.830769    254.25   \n",
       "..          ...       ...          ...       ...          ...       ...   \n",
       "940  21-11-2018        t9          NaN  58.69630  1026.797407  73577.25   \n",
       "941  22-11-2018        t9     15.52482  63.16312  1027.495248  65301.75   \n",
       "942  23-11-2018        t9     15.81560  59.21277  1029.318511  73534.50   \n",
       "943  24-11-2018        t9     16.58571  54.63571  1026.776357  72283.50   \n",
       "944  25-11-2018        t9     17.90000  49.41000  1026.771200  71799.75   \n",
       "\n",
       "      lightavg  lightmax  moisture  \n",
       "0       5.5000    4000.0    0.0000  \n",
       "1      11.8448    4000.0    5.6930  \n",
       "2       8.7692    4000.0       NaN  \n",
       "3       8.8358    4000.0    6.0373  \n",
       "4     274.6232    4333.0   31.2385  \n",
       "..         ...       ...       ...  \n",
       "940  5521.1231   47460.0   54.4222  \n",
       "941  5521.1231   47460.0   54.5674  \n",
       "942  5521.1231   47460.0   54.8794  \n",
       "943  5521.1231   47460.0   55.0286  \n",
       "944  5783.7581   47460.0   55.3400  \n",
       "\n",
       "[945 rows x 9 columns]"
      ]
     },
     "execution_count": 3,
     "metadata": {},
     "output_type": "execute_result"
    }
   ],
   "source": [
    "df=pd.read_csv(\"C:/Users/sksin/OneDrive/Desktop/IC272/Assignment-1/landslide_data_miss.csv\")\n",
    "df"
   ]
  },
  {
   "cell_type": "code",
   "execution_count": 4,
   "metadata": {},
   "outputs": [
    {
     "name": "stdout",
     "output_type": "stream",
     "text": [
      "0\n"
     ]
    }
   ],
   "source": [
    "# df.columns\n",
    "# df.isna().sum()\n",
    "# df[df.isna().any(axis=1)]\n",
    "print(df.duplicated().sum())"
   ]
  },
  {
   "cell_type": "code",
   "execution_count": 5,
   "metadata": {},
   "outputs": [
    {
     "name": "stdout",
     "output_type": "stream",
     "text": [
      "19\n"
     ]
    }
   ],
   "source": [
    "print(df['stationid'].isna().sum())"
   ]
  },
  {
   "cell_type": "code",
   "execution_count": null,
   "metadata": {},
   "outputs": [],
   "source": [
    "df"
   ]
  },
  {
   "cell_type": "code",
   "execution_count": 6,
   "metadata": {},
   "outputs": [
    {
     "name": "stdout",
     "output_type": "stream",
     "text": [
      "0\n"
     ]
    }
   ],
   "source": [
    "df.dropna(subset = [\"stationid\"], inplace=True)\n",
    "print(df['stationid'].isna().sum())"
   ]
  },
  {
   "cell_type": "code",
   "execution_count": 7,
   "metadata": {},
   "outputs": [
    {
     "data": {
      "text/plain": [
       "dates           0\n",
       "stationid       0\n",
       "temperature    62\n",
       "humidity       41\n",
       "pressure       73\n",
       "rain           33\n",
       "lightavg       43\n",
       "lightmax       27\n",
       "moisture       30\n",
       "dtype: int64"
      ]
     },
     "execution_count": 7,
     "metadata": {},
     "output_type": "execute_result"
    }
   ],
   "source": [
    "df.isna().sum()"
   ]
  },
  {
   "cell_type": "code",
   "execution_count": 10,
   "metadata": {},
   "outputs": [
    {
     "data": {
      "text/plain": [
       "dates           0\n",
       "stationid       0\n",
       "temperature    48\n",
       "humidity       27\n",
       "pressure       59\n",
       "rain           19\n",
       "lightavg       29\n",
       "lightmax       13\n",
       "moisture       16\n",
       "dtype: int64"
      ]
     },
     "execution_count": 10,
     "metadata": {},
     "output_type": "execute_result"
    }
   ],
   "source": [
    "\n",
    "df.dropna(thresh=3,inplace=True)\n",
    "df.isna().sum()"
   ]
  }
 ],
 "metadata": {
  "kernelspec": {
   "display_name": "Python 3",
   "language": "python",
   "name": "python3"
  },
  "language_info": {
   "codemirror_mode": {
    "name": "ipython",
    "version": 3
   },
   "file_extension": ".py",
   "mimetype": "text/x-python",
   "name": "python",
   "nbconvert_exporter": "python",
   "pygments_lexer": "ipython3",
   "version": "3.11.4"
  },
  "orig_nbformat": 4
 },
 "nbformat": 4,
 "nbformat_minor": 2
}
