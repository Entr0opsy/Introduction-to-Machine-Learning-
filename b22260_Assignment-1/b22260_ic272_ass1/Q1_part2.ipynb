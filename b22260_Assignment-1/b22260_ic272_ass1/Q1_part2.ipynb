{
 "cells": [
  {
   "cell_type": "code",
   "execution_count": null,
   "metadata": {},
   "outputs": [],
   "source": [
    "import pandas as pd\n",
    "import matplotlib.pyplot as plt\n",
    "import numpy as np"
   ]
  },
  {
   "cell_type": "code",
   "execution_count": null,
   "metadata": {},
   "outputs": [],
   "source": [
    "df=pd.read_csv(\"C:/Users/sksin/OneDrive/Desktop/IC272/Assignment-1/landslide_data_original.csv\")\n",
    "df"
   ]
  },
  {
   "cell_type": "markdown",
   "metadata": {},
   "source": [
    "Defining a function to calculate pearson correlation"
   ]
  },
  {
   "cell_type": "code",
   "execution_count": 21,
   "metadata": {},
   "outputs": [],
   "source": [
    "temperature= df[\"temperature\"]\n",
    "humidity   = df[\"humidity\"]\n",
    "pressure   = df[\"pressure\"]\n",
    "rain       = df[\"rain\"]\n",
    "lightavg   = df[\"lightavg\"]\n",
    "lightmax   = df[\"lightmax\"]\n",
    "moisture   = df[\"moisture\"]\n",
    "\n",
    "#print(moisture)\n",
    "type(moisture)\n",
    "def  correlation(x,y):\n",
    "\n",
    "    nr=sum([ (x[i]-np.mean(x))*(y[i]-np.mean(y)) for i in range (len(x)) ])\n",
    "    #print(nr)\n",
    "    dr=((sum([(x[i]-np.mean(x))**2 for i in range (len(x))]))*(sum([(y[i]-np.mean(y))**2 for i in range (len(y))])))**0.5\n",
    "    #print(dr)\n",
    "    return(round(nr/dr,2))\n",
    "\n",
    "\n",
    "\n",
    "\n",
    "\n",
    "#correlation(temperature,temperature)\n",
    "\n",
    "\n"
   ]
  },
  {
   "cell_type": "markdown",
   "metadata": {},
   "source": [
    "TABLE "
   ]
  },
  {
   "cell_type": "code",
   "execution_count": 26,
   "metadata": {},
   "outputs": [
    {
     "name": "stdout",
     "output_type": "stream",
     "text": [
      "             temperature  humidity  pressure  rain  lightavg  lightmax  \\\n",
      "temperature         1.00      0.40     -0.18 -0.11     -0.18     -0.15   \n",
      "humidity            0.40      1.00     -0.11 -0.43     -0.26     -0.24   \n",
      "pressure           -0.18     -0.11      1.00  0.07      0.08      0.10   \n",
      "rain               -0.11     -0.43      0.07  1.00      0.53      0.31   \n",
      "livavg             -0.18     -0.26      0.08  0.53      1.00      0.62   \n",
      "lightmax           -0.15     -0.24      0.10  0.31      0.62      1.00   \n",
      "moisture            0.08     -0.00      0.08  0.43      0.34      0.01   \n",
      "\n",
      "             moisture  \n",
      "temperature      0.08  \n",
      "humidity        -0.00  \n",
      "pressure        -0.04  \n",
      "rain             0.43  \n",
      "livavg           0.34  \n",
      "lightmax         0.01  \n",
      "moisture         1.00  \n",
      "\n",
      "the name of the redundant attribute with respect to 'lightavg':'lightmax'\n"
     ]
    }
   ],
   "source": [
    "d={\n",
    "    \"temperature\":[correlation(temperature,temperature),correlation(temperature,humidity),correlation(temperature,pressure),correlation(temperature,rain),correlation(temperature,lightavg),correlation(temperature,lightmax),correlation(temperature,moisture)],\n",
    "    \"humidity\":[correlation(humidity,temperature),correlation(humidity,humidity),correlation(humidity,pressure),correlation(humidity,rain),correlation(humidity,lightavg),correlation(humidity,lightmax),correlation(humidity,moisture)],\n",
    "    \"pressure\":[correlation(pressure,temperature),correlation(pressure,humidity),correlation(pressure,pressure),correlation(pressure,rain),correlation(pressure,lightavg),correlation(pressure,lightmax),correlation(temperature,moisture)],\n",
    "    \"rain\":[correlation(rain,temperature),correlation(rain,humidity),correlation(rain,pressure),correlation(rain,rain),correlation(rain,lightavg),correlation(rain,lightmax),correlation(rain,moisture)],\n",
    "    \"lightavg\":[correlation(lightavg,temperature),correlation(lightavg,humidity),correlation(lightavg,pressure),correlation(lightavg,rain),correlation(lightavg,lightavg),correlation(lightavg,lightmax),correlation(lightavg,moisture)],\n",
    "    \"lightmax\":[correlation(lightmax,temperature),correlation(lightmax,humidity),correlation(lightmax,pressure),correlation(lightmax,rain),correlation(lightmax,lightavg),correlation(lightmax,lightmax),correlation(lightmax,moisture)],\n",
    "    \"moisture\":[correlation(moisture,temperature),correlation(moisture,humidity),correlation(moisture,pressure),correlation(moisture,rain),correlation(moisture,lightavg),correlation(moisture,lightmax),correlation(moisture,moisture)]\n",
    "}\n",
    "g=pd.DataFrame(data=d,index=[\"temperature\",\"humidity\",\"pressure\",\"rain\",\"livavg\",\"lightmax\",\"moisture\"])\n",
    "print(g)\n",
    "\n",
    "print(\"\\nthe name of the redundant attribute with respect to 'lightavg':'lightmax'\")"
   ]
  }
 ],
 "metadata": {
  "kernelspec": {
   "display_name": "Python 3",
   "language": "python",
   "name": "python3"
  },
  "language_info": {
   "codemirror_mode": {
    "name": "ipython",
    "version": 3
   },
   "file_extension": ".py",
   "mimetype": "text/x-python",
   "name": "python",
   "nbconvert_exporter": "python",
   "pygments_lexer": "ipython3",
   "version": "3.11.4"
  },
  "orig_nbformat": 4
 },
 "nbformat": 4,
 "nbformat_minor": 2
}
